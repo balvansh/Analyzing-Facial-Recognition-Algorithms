{
  "nbformat": 4,
  "nbformat_minor": 0,
  "metadata": {
    "colab": {
      "name": "DeepFace.ipynb",
      "provenance": [],
      "collapsed_sections": []
    },
    "kernelspec": {
      "name": "python3",
      "display_name": "Python 3"
    }
  },
  "cells": [
    {
      "cell_type": "code",
      "metadata": {
        "colab": {
          "base_uri": "https://localhost:8080/"
        },
        "id": "HSENwdik-6w-",
        "outputId": "d9476aa2-e790-4b9b-8cd4-331e006a774e"
      },
      "source": [
        "from google.colab import drive\n",
        "drive.mount('/content/gdrive/')"
      ],
      "execution_count": 2,
      "outputs": [
        {
          "output_type": "stream",
          "text": [
            "Mounted at /content/gdrive/\n"
          ],
          "name": "stdout"
        }
      ]
    },
    {
      "cell_type": "code",
      "metadata": {
        "colab": {
          "base_uri": "https://localhost:8080/"
        },
        "id": "wV_Fl6ZgCAzS",
        "outputId": "bff7da4d-992e-43a0-9724-c60e99108862"
      },
      "source": [
        "!pip install deepface"
      ],
      "execution_count": 3,
      "outputs": [
        {
          "output_type": "stream",
          "text": [
            "Collecting deepface\n",
            "\u001b[?25l  Downloading https://files.pythonhosted.org/packages/75/0b/4b42804c387cc0a45ca09f78be212d70b802fd70863ec749b75b5b355442/deepface-0.0.45-py3-none-any.whl (52kB)\n",
            "\r\u001b[K     |██████▎                         | 10kB 15.4MB/s eta 0:00:01\r\u001b[K     |████████████▌                   | 20kB 21.3MB/s eta 0:00:01\r\u001b[K     |██████████████████▊             | 30kB 12.0MB/s eta 0:00:01\r\u001b[K     |█████████████████████████       | 40kB 9.4MB/s eta 0:00:01\r\u001b[K     |███████████████████████████████▏| 51kB 4.5MB/s eta 0:00:01\r\u001b[K     |████████████████████████████████| 61kB 3.1MB/s \n",
            "\u001b[?25hRequirement already satisfied: pandas>=0.23.4 in /usr/local/lib/python3.6/dist-packages (from deepface) (1.1.5)\n",
            "Requirement already satisfied: opencv-python>=3.4.4 in /usr/local/lib/python3.6/dist-packages (from deepface) (4.1.2.30)\n",
            "Collecting mtcnn>=0.1.0\n",
            "\u001b[?25l  Downloading https://files.pythonhosted.org/packages/67/43/abee91792797c609c1bf30f1112117f7a87a713ebaa6ec5201d5555a73ef/mtcnn-0.1.0-py3-none-any.whl (2.3MB)\n",
            "\u001b[K     |████████████████████████████████| 2.3MB 7.4MB/s \n",
            "\u001b[?25hRequirement already satisfied: Pillow>=5.2.0 in /usr/local/lib/python3.6/dist-packages (from deepface) (7.0.0)\n",
            "Requirement already satisfied: numpy>=1.14.0 in /usr/local/lib/python3.6/dist-packages (from deepface) (1.18.5)\n",
            "Requirement already satisfied: keras>=2.2.0 in /usr/local/lib/python3.6/dist-packages (from deepface) (2.4.3)\n",
            "Requirement already satisfied: tqdm>=4.30.0 in /usr/local/lib/python3.6/dist-packages (from deepface) (4.41.1)\n",
            "Collecting gdown>=3.10.1\n",
            "  Downloading https://files.pythonhosted.org/packages/50/21/92c3cfe56f5c0647145c4b0083d0733dd4890a057eb100a8eeddf949ffe9/gdown-3.12.2.tar.gz\n",
            "  Installing build dependencies ... \u001b[?25l\u001b[?25hdone\n",
            "  Getting requirements to build wheel ... \u001b[?25l\u001b[?25hdone\n",
            "    Preparing wheel metadata ... \u001b[?25l\u001b[?25hdone\n",
            "Requirement already satisfied: Flask>=1.1.2 in /usr/local/lib/python3.6/dist-packages (from deepface) (1.1.2)\n",
            "Requirement already satisfied: tensorflow>=1.9.0 in /usr/local/lib/python3.6/dist-packages (from deepface) (2.3.0)\n",
            "Requirement already satisfied: pytz>=2017.2 in /usr/local/lib/python3.6/dist-packages (from pandas>=0.23.4->deepface) (2018.9)\n",
            "Requirement already satisfied: python-dateutil>=2.7.3 in /usr/local/lib/python3.6/dist-packages (from pandas>=0.23.4->deepface) (2.8.1)\n",
            "Requirement already satisfied: scipy>=0.14 in /usr/local/lib/python3.6/dist-packages (from keras>=2.2.0->deepface) (1.4.1)\n",
            "Requirement already satisfied: h5py in /usr/local/lib/python3.6/dist-packages (from keras>=2.2.0->deepface) (2.10.0)\n",
            "Requirement already satisfied: pyyaml in /usr/local/lib/python3.6/dist-packages (from keras>=2.2.0->deepface) (3.13)\n",
            "Requirement already satisfied: filelock in /usr/local/lib/python3.6/dist-packages (from gdown>=3.10.1->deepface) (3.0.12)\n",
            "Requirement already satisfied: requests[socks] in /usr/local/lib/python3.6/dist-packages (from gdown>=3.10.1->deepface) (2.23.0)\n",
            "Requirement already satisfied: six in /usr/local/lib/python3.6/dist-packages (from gdown>=3.10.1->deepface) (1.15.0)\n",
            "Requirement already satisfied: Jinja2>=2.10.1 in /usr/local/lib/python3.6/dist-packages (from Flask>=1.1.2->deepface) (2.11.2)\n",
            "Requirement already satisfied: itsdangerous>=0.24 in /usr/local/lib/python3.6/dist-packages (from Flask>=1.1.2->deepface) (1.1.0)\n",
            "Requirement already satisfied: click>=5.1 in /usr/local/lib/python3.6/dist-packages (from Flask>=1.1.2->deepface) (7.1.2)\n",
            "Requirement already satisfied: Werkzeug>=0.15 in /usr/local/lib/python3.6/dist-packages (from Flask>=1.1.2->deepface) (1.0.1)\n",
            "Requirement already satisfied: keras-preprocessing<1.2,>=1.1.1 in /usr/local/lib/python3.6/dist-packages (from tensorflow>=1.9.0->deepface) (1.1.2)\n",
            "Requirement already satisfied: tensorflow-estimator<2.4.0,>=2.3.0 in /usr/local/lib/python3.6/dist-packages (from tensorflow>=1.9.0->deepface) (2.3.0)\n",
            "Requirement already satisfied: wheel>=0.26 in /usr/local/lib/python3.6/dist-packages (from tensorflow>=1.9.0->deepface) (0.36.1)\n",
            "Requirement already satisfied: tensorboard<3,>=2.3.0 in /usr/local/lib/python3.6/dist-packages (from tensorflow>=1.9.0->deepface) (2.3.0)\n",
            "Requirement already satisfied: google-pasta>=0.1.8 in /usr/local/lib/python3.6/dist-packages (from tensorflow>=1.9.0->deepface) (0.2.0)\n",
            "Requirement already satisfied: absl-py>=0.7.0 in /usr/local/lib/python3.6/dist-packages (from tensorflow>=1.9.0->deepface) (0.10.0)\n",
            "Requirement already satisfied: astunparse==1.6.3 in /usr/local/lib/python3.6/dist-packages (from tensorflow>=1.9.0->deepface) (1.6.3)\n",
            "Requirement already satisfied: grpcio>=1.8.6 in /usr/local/lib/python3.6/dist-packages (from tensorflow>=1.9.0->deepface) (1.34.0)\n",
            "Requirement already satisfied: termcolor>=1.1.0 in /usr/local/lib/python3.6/dist-packages (from tensorflow>=1.9.0->deepface) (1.1.0)\n",
            "Requirement already satisfied: wrapt>=1.11.1 in /usr/local/lib/python3.6/dist-packages (from tensorflow>=1.9.0->deepface) (1.12.1)\n",
            "Requirement already satisfied: protobuf>=3.9.2 in /usr/local/lib/python3.6/dist-packages (from tensorflow>=1.9.0->deepface) (3.12.4)\n",
            "Requirement already satisfied: gast==0.3.3 in /usr/local/lib/python3.6/dist-packages (from tensorflow>=1.9.0->deepface) (0.3.3)\n",
            "Requirement already satisfied: opt-einsum>=2.3.2 in /usr/local/lib/python3.6/dist-packages (from tensorflow>=1.9.0->deepface) (3.3.0)\n",
            "Requirement already satisfied: chardet<4,>=3.0.2 in /usr/local/lib/python3.6/dist-packages (from requests[socks]->gdown>=3.10.1->deepface) (3.0.4)\n",
            "Requirement already satisfied: urllib3!=1.25.0,!=1.25.1,<1.26,>=1.21.1 in /usr/local/lib/python3.6/dist-packages (from requests[socks]->gdown>=3.10.1->deepface) (1.24.3)\n",
            "Requirement already satisfied: idna<3,>=2.5 in /usr/local/lib/python3.6/dist-packages (from requests[socks]->gdown>=3.10.1->deepface) (2.10)\n",
            "Requirement already satisfied: certifi>=2017.4.17 in /usr/local/lib/python3.6/dist-packages (from requests[socks]->gdown>=3.10.1->deepface) (2020.12.5)\n",
            "Requirement already satisfied: PySocks!=1.5.7,>=1.5.6; extra == \"socks\" in /usr/local/lib/python3.6/dist-packages (from requests[socks]->gdown>=3.10.1->deepface) (1.7.1)\n",
            "Requirement already satisfied: MarkupSafe>=0.23 in /usr/local/lib/python3.6/dist-packages (from Jinja2>=2.10.1->Flask>=1.1.2->deepface) (1.1.1)\n",
            "Requirement already satisfied: setuptools>=41.0.0 in /usr/local/lib/python3.6/dist-packages (from tensorboard<3,>=2.3.0->tensorflow>=1.9.0->deepface) (50.3.2)\n",
            "Requirement already satisfied: tensorboard-plugin-wit>=1.6.0 in /usr/local/lib/python3.6/dist-packages (from tensorboard<3,>=2.3.0->tensorflow>=1.9.0->deepface) (1.7.0)\n",
            "Requirement already satisfied: google-auth-oauthlib<0.5,>=0.4.1 in /usr/local/lib/python3.6/dist-packages (from tensorboard<3,>=2.3.0->tensorflow>=1.9.0->deepface) (0.4.2)\n",
            "Requirement already satisfied: google-auth<2,>=1.6.3 in /usr/local/lib/python3.6/dist-packages (from tensorboard<3,>=2.3.0->tensorflow>=1.9.0->deepface) (1.17.2)\n",
            "Requirement already satisfied: markdown>=2.6.8 in /usr/local/lib/python3.6/dist-packages (from tensorboard<3,>=2.3.0->tensorflow>=1.9.0->deepface) (3.3.3)\n",
            "Requirement already satisfied: requests-oauthlib>=0.7.0 in /usr/local/lib/python3.6/dist-packages (from google-auth-oauthlib<0.5,>=0.4.1->tensorboard<3,>=2.3.0->tensorflow>=1.9.0->deepface) (1.3.0)\n",
            "Requirement already satisfied: rsa<5,>=3.1.4; python_version >= \"3\" in /usr/local/lib/python3.6/dist-packages (from google-auth<2,>=1.6.3->tensorboard<3,>=2.3.0->tensorflow>=1.9.0->deepface) (4.6)\n",
            "Requirement already satisfied: cachetools<5.0,>=2.0.0 in /usr/local/lib/python3.6/dist-packages (from google-auth<2,>=1.6.3->tensorboard<3,>=2.3.0->tensorflow>=1.9.0->deepface) (4.1.1)\n",
            "Requirement already satisfied: pyasn1-modules>=0.2.1 in /usr/local/lib/python3.6/dist-packages (from google-auth<2,>=1.6.3->tensorboard<3,>=2.3.0->tensorflow>=1.9.0->deepface) (0.2.8)\n",
            "Requirement already satisfied: importlib-metadata; python_version < \"3.8\" in /usr/local/lib/python3.6/dist-packages (from markdown>=2.6.8->tensorboard<3,>=2.3.0->tensorflow>=1.9.0->deepface) (3.1.1)\n",
            "Requirement already satisfied: oauthlib>=3.0.0 in /usr/local/lib/python3.6/dist-packages (from requests-oauthlib>=0.7.0->google-auth-oauthlib<0.5,>=0.4.1->tensorboard<3,>=2.3.0->tensorflow>=1.9.0->deepface) (3.1.0)\n",
            "Requirement already satisfied: pyasn1>=0.1.3 in /usr/local/lib/python3.6/dist-packages (from rsa<5,>=3.1.4; python_version >= \"3\"->google-auth<2,>=1.6.3->tensorboard<3,>=2.3.0->tensorflow>=1.9.0->deepface) (0.4.8)\n",
            "Requirement already satisfied: zipp>=0.5 in /usr/local/lib/python3.6/dist-packages (from importlib-metadata; python_version < \"3.8\"->markdown>=2.6.8->tensorboard<3,>=2.3.0->tensorflow>=1.9.0->deepface) (3.4.0)\n",
            "Building wheels for collected packages: gdown\n",
            "  Building wheel for gdown (PEP 517) ... \u001b[?25l\u001b[?25hdone\n",
            "  Created wheel for gdown: filename=gdown-3.12.2-cp36-none-any.whl size=9694 sha256=73b054a41920bec62d23e886aefe2ca16f9ea23daa085608976350cc377c97d3\n",
            "  Stored in directory: /root/.cache/pip/wheels/81/d0/d7/d9983facc6f2775411803e0e2d30ebf98efbf2fc6e57701e09\n",
            "Successfully built gdown\n",
            "Installing collected packages: mtcnn, gdown, deepface\n",
            "  Found existing installation: gdown 3.6.4\n",
            "    Uninstalling gdown-3.6.4:\n",
            "      Successfully uninstalled gdown-3.6.4\n",
            "Successfully installed deepface-0.0.45 gdown-3.12.2 mtcnn-0.1.0\n"
          ],
          "name": "stdout"
        }
      ]
    },
    {
      "cell_type": "code",
      "metadata": {
        "colab": {
          "base_uri": "https://localhost:8080/"
        },
        "id": "RdBeoyiAPUEE",
        "outputId": "66071988-daca-4d1a-845b-eda8882b1022"
      },
      "source": [
        "%cp /content/gdrive/My\\ Drive/Advanced\\ Machine\\ Learning/Project/vgg_face_weights.h5 /root/.deepface/weights/\n",
        "%cp /content/gdrive/My\\ Drive/Advanced\\ Machine\\ Learning/Project/VGGFace2_DeepFace_weights_val-0.9034.h5 /root/.deepface/weights/\n",
        "%cp /content/gdrive/My\\ Drive/Advanced\\ Machine\\ Learning/Project/openface_weights.h5 /root/.deepface/weights/\n",
        "%cp /content/gdrive/My\\ Drive/Advanced\\ Machine\\ Learning/Project/facenet_weights.h5 /root/.deepface/weights/\n",
        "\n",
        "%cd /root/.deepface/weights/\n",
        "\n",
        "!ls"
      ],
      "execution_count": 6,
      "outputs": [
        {
          "output_type": "stream",
          "text": [
            "/root/.deepface/weights\n",
            "facenet_weights.h5   VGGFace2_DeepFace_weights_val-0.9034.h5\n",
            "openface_weights.h5  vgg_face_weights.h5\n"
          ],
          "name": "stdout"
        }
      ]
    },
    {
      "cell_type": "code",
      "metadata": {
        "colab": {
          "base_uri": "https://localhost:8080/"
        },
        "id": "bP4EzR-7C8e8",
        "outputId": "f7bf967d-0f28-40a4-a825-43d4420fbfc3"
      },
      "source": [
        "from deepface import DeepFace\n",
        "\n",
        "result = DeepFace.verify('/content/gdrive/My Drive/Advanced Machine Learning/Project/archive/train/ben_afflek/httpwwwallposterscomimagesPostersPFjpg.jpg', \n",
        "                         '/content/gdrive/My Drive/Advanced Machine Learning/Project/archive/val/ben_afflek/httpafilesbiographycomimageuploadcfillcssrgbdprgfacehqwMTENDgMDUODczNDcNTcjpg.jpg')\n",
        "print(\"Is verified: \", result[\"verified\"])"
      ],
      "execution_count": 7,
      "outputs": [
        {
          "output_type": "stream",
          "text": [
            "Is verified:  True\n"
          ],
          "name": "stdout"
        }
      ]
    },
    {
      "cell_type": "code",
      "metadata": {
        "id": "EuvPmAgWRN7s",
        "colab": {
          "base_uri": "https://localhost:8080/"
        },
        "outputId": "e5a4ad2b-c025-4341-90d4-743eb0494c33"
      },
      "source": [
        "import os\n",
        "import numpy as np\n",
        "import pandas as pd\n",
        "import cv2\n",
        "import matplotlib.pyplot as plt\n",
        "from PIL import Image\n",
        "\n",
        "def getPerson(dir, test_dir):\n",
        "  train_vals = {}\n",
        "  count = 0\n",
        "  correct_prediction = 0\n",
        "  list_dir = os.listdir(dir)\n",
        "  list_dir = [d.lower() for d in list_dir]\n",
        "  list_dir = sorted(list_dir)\n",
        "\n",
        "  t_list_dir = os.listdir(test_dir)\n",
        "  t_list_dir = [t.lower() for t in t_list_dir]\n",
        "  t_list_dir = sorted(t_list_dir)\n",
        "  \n",
        "  if list_dir == t_list_dir:\n",
        "    print('Lists are identical')\n",
        "  else:\n",
        "    intersection_list = [dir1 for dir1 in list_dir if dir1 in t_list_dir]\n",
        "    list_dir = intersection_list\n",
        "    t_list_dir = intersection_list\n",
        "\n",
        "  print(list_dir)\n",
        "  print(t_list_dir)\n",
        "\n",
        "  for subdir, test_subdir in zip(list_dir, t_list_dir):\n",
        "    print(subdir)\n",
        "    count = count + 1\n",
        "    if count > 2:\n",
        "      break\n",
        "    path = dir + '/' + subdir + '/'\n",
        "    print(path)\n",
        "    train_image = list()\n",
        "    test_files = os.listdir(test_dir + '/' + test_subdir + '/')\n",
        "    test_image = (test_dir + '/' + test_subdir + '/' + test_files[0])\n",
        "    #test_image = test_image.convert('RGB')\n",
        "    print(test_image)\n",
        "    for files in os.listdir(path):\n",
        "      image_path = path + files\n",
        "      image_extracted = (image_path)\n",
        "      #image_extracted = image_extracted.convert('RGB')\n",
        "      new_list = []\n",
        "\n",
        "      train_image.append(image_extracted)\n",
        "      \n",
        "    train_vals[subdir] = train_image\n",
        "    #print(train_vals)\n",
        "\n",
        "    #result = DeepFace.find(train_image, path, model_name='Ensemble')\n",
        "    #result.head(10)\n",
        "      \n",
        "    '''\n",
        "    if result:\n",
        "      correct_prediction = correct_prediction + 1\n",
        "    else:\n",
        "      pass\n",
        "    '''\n",
        "\n",
        "  print(train_vals)\n",
        "  if count == 0:\n",
        "    count = 1\n",
        "  return count, correct_prediction\n",
        "\n",
        "total, total_prediction = getPerson('/content/gdrive/My Drive/Advanced Machine Learning/Project/archive/train',\n",
        "                                    '/content/gdrive/My Drive/Advanced Machine Learning/Project/archive/val')\n",
        "\n",
        "print(total)\n",
        "\n",
        "\n",
        "\n",
        "\n",
        "\n",
        "    "
      ],
      "execution_count": 11,
      "outputs": [
        {
          "output_type": "stream",
          "text": [
            "Lists are identical\n",
            "['ben_afflek', 'elton_john', 'jerry_seinfeld', 'madonna', 'mindy_kaling']\n",
            "['ben_afflek', 'elton_john', 'jerry_seinfeld', 'madonna', 'mindy_kaling']\n",
            "ben_afflek\n",
            "/content/gdrive/My Drive/Advanced Machine Learning/Project/archive/train/ben_afflek/\n",
            "/content/gdrive/My Drive/Advanced Machine Learning/Project/archive/val/ben_afflek/httpcsvkmeuadecafjpg.jpg\n",
            "elton_john\n",
            "/content/gdrive/My Drive/Advanced Machine Learning/Project/archive/train/elton_john/\n",
            "/content/gdrive/My Drive/Advanced Machine Learning/Project/archive/val/elton_john/httpcdnlyricssongonlyricsnetwpcontentuploadsEltonJohnDiscographyCDreleasesjpg.jpg\n",
            "jerry_seinfeld\n",
            "{'ben_afflek': ['/content/gdrive/My Drive/Advanced Machine Learning/Project/archive/train/ben_afflek/httpwwwallposterscomimagesPostersPFjpg.jpg', '/content/gdrive/My Drive/Advanced Machine Learning/Project/archive/train/ben_afflek/httpssmediacacheakpinimgcomxdbbdbbbececacdecdcdfjpg.jpg', '/content/gdrive/My Drive/Advanced Machine Learning/Project/archive/train/ben_afflek/httpcsvkmeuaeccjpg.jpg', '/content/gdrive/My Drive/Advanced Machine Learning/Project/archive/train/ben_afflek/httpssmediacacheakpinimgcomxedaedabcbefbcbabbjpg.jpg', '/content/gdrive/My Drive/Advanced Machine Learning/Project/archive/train/ben_afflek/httpssmediacacheakpinimgcomxdfdfadcfeabjpg.jpg', '/content/gdrive/My Drive/Advanced Machine Learning/Project/archive/train/ben_afflek/httpsuploadwikimediaorgwikipediacommonsthumbddBenAffleckbyGageSkidmorejpgpxBenAffleckbyGageSkidmorejpg.jpg', '/content/gdrive/My Drive/Advanced Machine Learning/Project/archive/train/ben_afflek/httpssmediacacheakpinimgcomxeeedcacddeccccacfjpg.jpg', '/content/gdrive/My Drive/Advanced Machine Learning/Project/archive/train/ben_afflek/httptrwebimgacstanetcxbdddmediasnmediajpg.jpg', '/content/gdrive/My Drive/Advanced Machine Learning/Project/archive/train/ben_afflek/httpwwwhillsindcomstorebenjpg.jpg', '/content/gdrive/My Drive/Advanced Machine Learning/Project/archive/train/ben_afflek/httpwwwaceshowbizcomimagesphotobenaffleckjpg.jpg', '/content/gdrive/My Drive/Advanced Machine Learning/Project/archive/train/ben_afflek/httpimagesfandangocomrImageRendererredesignstaticimgnoxportraitjpgpcpcpcimagesmasterrepositoryperformerimagespjpg.jpg', '/content/gdrive/My Drive/Advanced Machine Learning/Project/archive/train/ben_afflek/httpssmediacacheakpinimgcomxeebdfdbaaajpg.jpg', '/content/gdrive/My Drive/Advanced Machine Learning/Project/archive/train/ben_afflek/httpwwwfilmscoopitcgibinattoriBENAFFLECKBENAFFLECKjpg.jpg', '/content/gdrive/My Drive/Advanced Machine Learning/Project/archive/train/ben_afflek/httpwwwrumenewscomwpcontentuploadsbenafflekxpng.jpg', '/content/gdrive/My Drive/Advanced Machine Learning/Project/archive/train/ben_afflek/representations_ensemble.pkl'], 'elton_john': ['/content/gdrive/My Drive/Advanced Machine Learning/Project/archive/train/elton_john/httpmediacacheecpinimgcomxffeffbcefjpg.jpg', '/content/gdrive/My Drive/Advanced Machine Learning/Project/archive/train/elton_john/httpspmctvlinefileswordpresscomeltonjohnjpg.jpg', '/content/gdrive/My Drive/Advanced Machine Learning/Project/archive/train/elton_john/httpssmediacacheakpinimgcomxfefdacfbfdeadajpg.jpg', '/content/gdrive/My Drive/Advanced Machine Learning/Project/archive/train/elton_john/httpimagesmtvcomurimgidfiledocrootvhcomsitewideflipbooksimgdailyjpgenlargefalsemattetruematteColorblackquality.jpg', '/content/gdrive/My Drive/Advanced Machine Learning/Project/archive/train/elton_john/httpwwwlautdeEltonJohneltonjohnjpg.jpg', '/content/gdrive/My Drive/Advanced Machine Learning/Project/archive/train/elton_john/httpwwwdeadlinecomvimgnetwpcontentuploadseltonjpg.jpg', '/content/gdrive/My Drive/Advanced Machine Learning/Project/archive/train/elton_john/httpimggalpmdstaticnetfithttpAFFwwwEgalaEfrFvarFgalFstorageFimagesFmediaFmultiuploaddufevrierFeltonjohnFfreFRFeltonjohnEjpgxqualityeltonjohnjpg.jpg', '/content/gdrive/My Drive/Advanced Machine Learning/Project/archive/train/elton_john/httpssmediacacheakpinimgcomxfecfecaefaadfebejpg.jpg', '/content/gdrive/My Drive/Advanced Machine Learning/Project/archive/train/elton_john/httpwwwjohnpauljonesarenacomeventimagesEltonCalendarVjpg.jpg', '/content/gdrive/My Drive/Advanced Machine Learning/Project/archive/train/elton_john/httpiamediaimdbcomimagesMMVBMTAxNDUMzUwOTdeQTJeQWpwZBbWUMDUOTAyNTIVUXCRALjpg.jpg', '/content/gdrive/My Drive/Advanced Machine Learning/Project/archive/train/elton_john/httpwwweonlinecomresizewwweonlinecomeolimagesEntireSitersxEltonJohnJRjpg.jpg', '/content/gdrive/My Drive/Advanced Machine Learning/Project/archive/train/elton_john/httpsticketmnettmenusdamabbacdaebeafdbbCUSTOMjpg.jpg', '/content/gdrive/My Drive/Advanced Machine Learning/Project/archive/train/elton_john/httpftqncomymusicLxZeltonjohnjpg.jpg', '/content/gdrive/My Drive/Advanced Machine Learning/Project/archive/train/elton_john/httpsdfrpwlycscloudfrontnetdeltonjohnjpg.jpg', '/content/gdrive/My Drive/Advanced Machine Learning/Project/archive/train/elton_john/httpsuploadwikimediaorgwikipediacommonsthumbEltonJohninsjpgpxEltonJohninsjpg.jpg', '/content/gdrive/My Drive/Advanced Machine Learning/Project/archive/train/elton_john/httpmediapopsugarassetscomfilescbffewltonjpg.jpg', '/content/gdrive/My Drive/Advanced Machine Learning/Project/archive/train/elton_john/httpssmediacacheakpinimgcomxfcfcbaeaeddabbjpg.jpg']}\n",
            "3\n"
          ],
          "name": "stdout"
        }
      ]
    }
  ]
}